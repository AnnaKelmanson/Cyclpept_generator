{
 "cells": [
  {
   "cell_type": "code",
   "execution_count": 12,
   "metadata": {},
   "outputs": [],
   "source": [
    "import pandas as pd\n",
    "from rdkit import Chem\n",
    "from rdkit.Chem import AllChem\n",
    "\n",
    "from rdkit.Chem import rdmolops\n",
    "\n",
    "from rdkit.Chem import rdCoordGen"
   ]
  },
  {
   "cell_type": "code",
   "execution_count": 13,
   "metadata": {},
   "outputs": [
    {
     "data": {
      "text/html": [
       "<div>\n",
       "<style scoped>\n",
       "    .dataframe tbody tr th:only-of-type {\n",
       "        vertical-align: middle;\n",
       "    }\n",
       "\n",
       "    .dataframe tbody tr th {\n",
       "        vertical-align: top;\n",
       "    }\n",
       "\n",
       "    .dataframe thead th {\n",
       "        text-align: right;\n",
       "    }\n",
       "</style>\n",
       "<table border=\"1\" class=\"dataframe\">\n",
       "  <thead>\n",
       "    <tr style=\"text-align: right;\">\n",
       "      <th></th>\n",
       "      <th>id</th>\n",
       "      <th>Name</th>\n",
       "      <th>CAS</th>\n",
       "      <th>Abb</th>\n",
       "      <th>cids</th>\n",
       "      <th>smiles</th>\n",
       "    </tr>\n",
       "  </thead>\n",
       "  <tbody>\n",
       "    <tr>\n",
       "      <th>0</th>\n",
       "      <td>0</td>\n",
       "      <td>Fmoc-beta-Ala-OH</td>\n",
       "      <td>35737-10-1</td>\n",
       "      <td>bAla</td>\n",
       "      <td>2724630</td>\n",
       "      <td>C1=CC=C2C(=C1)C(C3=CC=CC=C32)COC(=O)NCCC(=O)O</td>\n",
       "    </tr>\n",
       "    <tr>\n",
       "      <th>1</th>\n",
       "      <td>1</td>\n",
       "      <td>Fmoc-L-Pro-OH</td>\n",
       "      <td>71989-31-6</td>\n",
       "      <td>Pro</td>\n",
       "      <td>688135</td>\n",
       "      <td>C1C[C@H](N(C1)C(=O)OCC2C3=CC=CC=C3C4=CC=CC=C24...</td>\n",
       "    </tr>\n",
       "    <tr>\n",
       "      <th>2</th>\n",
       "      <td>2</td>\n",
       "      <td>Fmoc-L-Dab(Boc)-OH</td>\n",
       "      <td>125238-99-5</td>\n",
       "      <td>Dab</td>\n",
       "      <td>2756101</td>\n",
       "      <td>CC(C)(C)OC(=O)NCC[C@@H](C(=O)O)NC(=O)OCC1C2=CC...</td>\n",
       "    </tr>\n",
       "    <tr>\n",
       "      <th>3</th>\n",
       "      <td>3</td>\n",
       "      <td>Fmoc-L-Asp(OtBu)-OH</td>\n",
       "      <td>71989-14-5</td>\n",
       "      <td>Asp</td>\n",
       "      <td>2724635</td>\n",
       "      <td>CC(C)(C)OC(=O)C[C@@H](C(=O)O)NC(=O)OCC1C2=CC=C...</td>\n",
       "    </tr>\n",
       "    <tr>\n",
       "      <th>4</th>\n",
       "      <td>4</td>\n",
       "      <td>Fmoc-L-MeAla-OH</td>\n",
       "      <td>84000-07-7</td>\n",
       "      <td>NMeAla</td>\n",
       "      <td>688634</td>\n",
       "      <td>C[C@@H](C(=O)O)N(C)C(=O)OCC1C2=CC=CC=C2C3=CC=C...</td>\n",
       "    </tr>\n",
       "    <tr>\n",
       "      <th>5</th>\n",
       "      <td>5</td>\n",
       "      <td>Fmoc-L-Trp-OH</td>\n",
       "      <td>35737-15-6</td>\n",
       "      <td>Trp</td>\n",
       "      <td>978343</td>\n",
       "      <td>C1=CC=C2C(=C1)C(C3=CC=CC=C32)COC(=O)N[C@@H](CC...</td>\n",
       "    </tr>\n",
       "    <tr>\n",
       "      <th>6</th>\n",
       "      <td>6</td>\n",
       "      <td>Terephthalic acid</td>\n",
       "      <td>100-21-0</td>\n",
       "      <td>ac174</td>\n",
       "      <td>7489</td>\n",
       "      <td>C1=CC(=CC=C1C(=O)O)C(=O)O</td>\n",
       "    </tr>\n",
       "    <tr>\n",
       "      <th>7</th>\n",
       "      <td>7</td>\n",
       "      <td>Mono-Tert-Butyl Succinate</td>\n",
       "      <td>15026-17-2</td>\n",
       "      <td>ac255</td>\n",
       "      <td>4139107</td>\n",
       "      <td>CC(C)(C)OC(=O)CCC(=O)O</td>\n",
       "    </tr>\n",
       "    <tr>\n",
       "      <th>8</th>\n",
       "      <td>8</td>\n",
       "      <td>Acetic acid</td>\n",
       "      <td>64-19-7</td>\n",
       "      <td>ac47</td>\n",
       "      <td>176</td>\n",
       "      <td>CC(=O)O</td>\n",
       "    </tr>\n",
       "  </tbody>\n",
       "</table>\n",
       "</div>"
      ],
      "text/plain": [
       "   id                       Name          CAS     Abb     cids  \\\n",
       "0   0           Fmoc-beta-Ala-OH   35737-10-1    bAla  2724630   \n",
       "1   1              Fmoc-L-Pro-OH   71989-31-6     Pro   688135   \n",
       "2   2         Fmoc-L-Dab(Boc)-OH  125238-99-5     Dab  2756101   \n",
       "3   3        Fmoc-L-Asp(OtBu)-OH   71989-14-5     Asp  2724635   \n",
       "4   4            Fmoc-L-MeAla-OH   84000-07-7  NMeAla   688634   \n",
       "5   5              Fmoc-L-Trp-OH   35737-15-6     Trp   978343   \n",
       "6   6          Terephthalic acid     100-21-0   ac174     7489   \n",
       "7   7  Mono-Tert-Butyl Succinate   15026-17-2   ac255  4139107   \n",
       "8   8                Acetic acid      64-19-7    ac47      176   \n",
       "\n",
       "                                              smiles  \n",
       "0      C1=CC=C2C(=C1)C(C3=CC=CC=C32)COC(=O)NCCC(=O)O  \n",
       "1  C1C[C@H](N(C1)C(=O)OCC2C3=CC=CC=C3C4=CC=CC=C24...  \n",
       "2  CC(C)(C)OC(=O)NCC[C@@H](C(=O)O)NC(=O)OCC1C2=CC...  \n",
       "3  CC(C)(C)OC(=O)C[C@@H](C(=O)O)NC(=O)OCC1C2=CC=C...  \n",
       "4  C[C@@H](C(=O)O)N(C)C(=O)OCC1C2=CC=CC=C2C3=CC=C...  \n",
       "5  C1=CC=C2C(=C1)C(C3=CC=CC=C32)COC(=O)N[C@@H](CC...  \n",
       "6                          C1=CC(=CC=C1C(=O)O)C(=O)O  \n",
       "7                             CC(C)(C)OC(=O)CCC(=O)O  \n",
       "8                                            CC(=O)O  "
      ]
     },
     "execution_count": 13,
     "metadata": {},
     "output_type": "execute_result"
    }
   ],
   "source": [
    "bb_df = pd.read_csv('bbs.csv')\n",
    "\n",
    "bb_df"
   ]
  },
  {
   "cell_type": "code",
   "execution_count": 21,
   "metadata": {},
   "outputs": [],
   "source": [
    "bbdict = {}\n",
    "\n",
    "for idx, aa in enumerate(bb_df['Name']):\n",
    "    bbdict[aa] = bb_df['smiles'][idx]\n",
    "\n",
    "bbdict['res2'] = 'SCCCNC(OCC1C(C=CC=C2)=C2C3=C1C=CC=C3)=O'\n",
    "bbdict['mpa'] = 'O=C(O)CCS'\n",
    "bbdict['linker1'] = 'O=C(CCl)CCl'"
   ]
  },
  {
   "cell_type": "code",
   "execution_count": 22,
   "metadata": {},
   "outputs": [],
   "source": [
    "def build_peptide(sequence):\n",
    "\n",
    "    print('this is the sequence: ' + str(sequence))\n",
    "\n",
    "    sequence = sequence.split(' ')\n",
    "    sequence.reverse()\n",
    "\n",
    "    #fmoc coupling\n",
    "    rxn = AllChem.ReactionFromSmarts('([#8]=[#6](-[#7:1])-[#8]-[#6]-[#6]1-[#6]2:[#6](-[#6]3:[#6]-1:[#6]:[#6]:[#6]:[#6]:3):[#6]:[#6]:[#6]:[#6]:2).([#8:3]=[#6:2]-[OH])>>[#8:3]=[#6:2]-[#7:1]')\n",
    "\n",
    "    reacts = (Chem.MolFromSmiles(bbdict[sequence[0]]), Chem.MolFromSmiles(bbdict[sequence[1]]))\n",
    "\n",
    "    products = rxn.RunReactants(reacts)\n",
    "\n",
    "    product = products[0][0]\n",
    "\n",
    "    if len(sequence) == 2:\n",
    "        return Chem.MolToSmiles(product)\n",
    "    else:\n",
    "        for aa in sequence[2:]:\n",
    "            reacts = (product,Chem.MolFromSmiles(bbdict[aa]))\n",
    "            products = rxn.RunReactants(reacts) # tuple\n",
    "\n",
    "            product = products[0][0]\n",
    "\n",
    "\n",
    "        #Remove protecting groups\n",
    "            \n",
    "        #remove nboc\n",
    "        nboc = 'CC(C)(C)OC(NC)=O'\n",
    "        if product.HasSubstructMatch(Chem.MolFromSmiles(nboc)):\n",
    "            # print('nboc removal')\n",
    "            # display(product)\n",
    "            rxn = AllChem.ReactionFromSmarts('([#6]-[#6](-[#6])(-[#6])-[#8]-[#6](-[#7:1]-[#6:2])=[#8])>>[#7:1]-[#6:2]')\n",
    "            reacts = (product,)\n",
    "            products = rxn.RunReactants(reacts)\n",
    "            product = products[0][0]\n",
    "\n",
    "        mol = product\n",
    "\n",
    "        #remove tbu\n",
    "        tbu = 'COC(C)(C)C'\n",
    "\n",
    "        pgs = [tbu]\n",
    "        pgrepl = ['CO']\n",
    "\n",
    "        for idx, pg in enumerate(pgs):\n",
    "            mol = Chem.rdmolops.ReplaceSubstructs(mol, Chem.MolFromSmiles(pg), Chem.MolFromSmiles(pgrepl[idx]))\n",
    "            mol = mol[0]\n",
    "\n",
    "        #remove pbf, trt\n",
    "        pbf = 'CC1(C)Cc2c(C)c(S(=O)=O)c(C)c(C)c2O1'\n",
    "        trt = 'C(c1ccccc1)(c2ccccc2)c3ccccc3'\n",
    "\n",
    "        pgs = [pbf, trt]\n",
    "\n",
    "        for idx, pg in enumerate(pgs):\n",
    "            mol = Chem.rdmolops.DeleteSubstructs(mol, Chem.MolFromSmiles(pg))\n",
    "            # print(pg)\n",
    "            # display(mol)\n",
    "\n",
    "        smile = Chem.MolToSmiles(mol, kekuleSmiles = True)\n",
    "        product = Chem.MolFromSmiles(smile)\n",
    "        \n",
    "        #fmoc removal if neccessary\n",
    "        product = rdmolops.DeleteSubstructs(product, Chem.MolFromSmiles('O=COCC1C2=C(C=CC=C2)C3=C1C=CC=C3'))\n",
    "\n",
    "        display(product)\n",
    "\n",
    "        return product"
   ]
  },
  {
   "cell_type": "code",
   "execution_count": 23,
   "metadata": {},
   "outputs": [],
   "source": [
    "def disulfide_cyc(linear_peptide):\n",
    "    \n",
    "    oxrxn = AllChem.ReactionFromSmarts('([#16:1].[#16:2])>>[#16:1]-[#16:2]')\n",
    "    reacts = (linear_peptide,)\n",
    "    products = oxrxn.RunReactants(reacts) # tuple\n",
    "\n",
    "    product = products[0][0]\n",
    "    \n",
    "    rdCoordGen.AddCoords(product) #makes mc look nicer\n",
    "\n",
    "    display(product)\n",
    "\n",
    "    return product"
   ]
  },
  {
   "cell_type": "code",
   "execution_count": 24,
   "metadata": {},
   "outputs": [],
   "source": [
    "def linker_cyc(linear_peptide, linker):\n",
    "    \n",
    "    cycrxn = AllChem.ReactionFromSmarts('([#16:1]-[#6:2].[#16:3]-[#6:4]).([#6:5]-[#17].[#6:6]-[#17])>>([#6:2]-[#16:1]-[#6:5].[#6:4]-[#16:3]-[#6:6])')\n",
    "    reacts = (linear_peptide, linker)\n",
    "    products = cycrxn.RunReactants(reacts) # tuple\n",
    "\n",
    "    product = products[0][0]\n",
    "    \n",
    "    rdCoordGen.AddCoords(product) #makes mc look nicer\n",
    "\n",
    "    display(product)\n",
    "\n",
    "    return product"
   ]
  },
  {
   "cell_type": "code",
   "execution_count": 53,
   "metadata": {},
   "outputs": [],
   "source": [
    "sequences = ['mpa Asp Asp Asp res2']"
   ]
  },
  {
   "cell_type": "code",
   "execution_count": 54,
   "metadata": {},
   "outputs": [
    {
     "name": "stdout",
     "output_type": "stream",
     "text": [
      "this is the sequence: mpa Asp Asp Asp res2\n"
     ]
    },
    {
     "data": {
      "image/png": "[encoded data removed]",
      "text/plain": [
       "<rdkit.Chem.rdchem.Mol at 0x7f95c87daba0>"
      ]
     },
     "metadata": {},
     "output_type": "display_data"
    },
    {
     "data": {
      "image/png": "[encoded data removed]",
      "text/plain": [
       "<rdkit.Chem.rdchem.Mol at 0x7f95c87da5f0>"
      ]
     },
     "metadata": {},
     "output_type": "display_data"
    },
    {
     "data": {
      "image/png": "[encoded data removed]",
      "text/plain": [
       "<rdkit.Chem.rdchem.Mol at 0x7f95c87daeb0>"
      ]
     },
     "metadata": {},
     "output_type": "display_data"
    }
   ],
   "source": [
    "for sequence in sequences:\n",
    "    linear_peptide = build_peptide(sequence)\n",
    "    disulfide_cyc(linear_peptide)\n",
    "    linker = Chem.MolFromSmiles(bbdict['linker1'])\n",
    "    linker_cyc(linear_peptide, linker)"
   ]
  },
  {
   "cell_type": "code",
   "execution_count": 49,
   "metadata": {},
   "outputs": [
    {
     "data": {
      "text/plain": [
       "{'bAla': 'C1=CC=C2C(=C1)C(C3=CC=CC=C32)COC(=O)NCCC(=O)O',\n",
       " 'Pro': 'C1C[C@H](N(C1)C(=O)OCC2C3=CC=CC=C3C4=CC=CC=C24)C(=O)O',\n",
       " 'Dab': 'CC(C)(C)OC(=O)NCC[C@@H](C(=O)O)NC(=O)OCC1C2=CC=CC=C2C3=CC=CC=C13',\n",
       " 'Asp': 'CC(C)(C)OC(=O)C[C@@H](C(=O)O)NC(=O)OCC1C2=CC=CC=C2C3=CC=CC=C13',\n",
       " 'NMeAla': 'C[C@@H](C(=O)O)N(C)C(=O)OCC1C2=CC=CC=C2C3=CC=CC=C13',\n",
       " 'Trp': 'C1=CC=C2C(=C1)C(C3=CC=CC=C32)COC(=O)N[C@@H](CC4=CNC5=CC=CC=C54)C(=O)O',\n",
       " 'ac174': 'C1=CC(=CC=C1C(=O)O)C(=O)O',\n",
       " 'ac255': 'CC(C)(C)OC(=O)CCC(=O)O',\n",
       " 'ac47': 'CC(=O)O',\n",
       " 'res2': 'SCCCNC(OCC1C(C=CC=C2)=C2C3=C1C=CC=C3)=O',\n",
       " 'mpa': 'O=C(O)CCS',\n",
       " 'linker1': 'O=C(CCl)CCl'}"
      ]
     },
     "execution_count": 49,
     "metadata": {},
     "output_type": "execute_result"
    }
   ],
   "source": [
    "bbdict"
   ]
  },
  {
   "cell_type": "code",
   "execution_count": null,
   "metadata": {},
   "outputs": [],
   "source": []
  }
 ],
 "metadata": {
  "kernelspec": {
   "display_name": "Python 3",
   "language": "python",
   "name": "python3"
  },
  "language_info": {
   "codemirror_mode": {
    "name": "ipython",
    "version": 3
   },
   "file_extension": ".py",
   "mimetype": "text/x-python",
   "name": "python",
   "nbconvert_exporter": "python",
   "pygments_lexer": "ipython3",
   "version": "3.9.18"
  }
 },
 "nbformat": 4,
 "nbformat_minor": 2
}
